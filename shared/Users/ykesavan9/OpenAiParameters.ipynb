{
 "cells": [
  {
   "cell_type": "markdown",
   "metadata": {},
   "source": [
    "# Load Packages"
   ]
  },
  {
   "cell_type": "code",
   "execution_count": 1,
   "metadata": {},
   "outputs": [
    {
     "name": "stdout",
     "output_type": "stream",
     "text": [
      "Note: you may need to restart the kernel to use updated packages.\n"
     ]
    }
   ],
   "source": [
    "%pip install -q python-dotenv openai "
   ]
  },
  {
   "cell_type": "markdown",
   "metadata": {},
   "source": [
    "# Generate Model\n",
    "\n",
    "| Parameter                | Description                                                                 |\n",
    "|--------------------------|-----------------------------------------------------------------------------|\n",
    "| `max_tokens`             | Maximum number of tokens to generate in the completion.                     |\n",
    "| `temperature`            | Controls the randomness of the output. Lower value is more deterministic.   |\n",
    "| `top_p`                  | Nucleus sampling parameter.                                                 |\n",
    "| `n`                      | Number of completions to generate.                                          |\n",
    "| `presence_penalty`       | Penalizes new tokens based on their presence in the text so far.            |\n",
    "| `frequency_penalty`      | Penalizes new tokens based on their frequency in the text so far.           |\n",
    "| `stop`                   | Sequences where the model should stop generating further tokens.            |"
   ]
  },
  {
   "cell_type": "code",
   "execution_count": 2,
   "metadata": {},
   "outputs": [],
   "source": [
    "from dotenv import load_dotenv\n",
    "from openai import AzureOpenAI\n",
    "import os\n",
    "\n",
    "load_dotenv()\n",
    "\n",
    "client = AzureOpenAI(\n",
    "    azure_endpoint=os.getenv(\"AOAI_ENDPOINT\"),\n",
    "    api_version=\"2024-06-01\",\n",
    "    api_key=os.getenv(\"AOAI_KEY\"))\n",
    "\n",
    "#GPT_MODEL = \"gpt-35-turbo\"\n",
    "GPT_MODEL = \"gpt-4\"\n"
   ]
  },
  {
   "cell_type": "markdown",
   "metadata": {},
   "source": [
    "# max_tokens - maximum number of tokens to generate in the completion."
   ]
  },
  {
   "cell_type": "code",
   "execution_count": 3,
   "metadata": {},
   "outputs": [
    {
     "name": "stdout",
     "output_type": "stream",
     "text": [
      "Max Tokens: 16\n",
      "\n",
      "The best pet really depends on an individual's lifestyle, preferences, and living situation\n",
      "\n",
      "--------------------------------------------------------------------------------\n",
      "\n",
      "Max Tokens: 32\n",
      "\n",
      "The best pet really depends on your lifestyle, living situation, and personal preferences. Here are a few popular options:\n",
      "\n",
      "1. **Dogs:** Great for active\n",
      "\n",
      "--------------------------------------------------------------------------------\n",
      "\n",
      "Max Tokens: 60\n",
      "\n",
      "The best pet for someone depends on various factors including their lifestyle, living arrangements, and personal preferences. Some popular choices include dogs, cats, fish, birds, and small furry animals like rabbits or guinea pigs. Each pet has different needs and offers different benefits. Dogs, for example, are often\n",
      "\n",
      "--------------------------------------------------------------------------------\n",
      "\n",
      "Max Tokens: 100\n",
      "\n",
      "The best pet ultimately depends on your personal preferences, lifestyle, and living arrangements. Some popular choices include:\n",
      "\n",
      "1. **Dogs**: Great for active individuals or families who have enough time and space. They are very loyal and can be trained for various tasks.\n",
      "2. **Cats**: Perfect for people who prefer a more independent pet. Cats usually require less attention than dogs and are suitable for smaller living spaces.\n",
      "3. **Fish**: Ideal for those who might enjoy a quieter pet or have limited\n",
      "\n",
      "--------------------------------------------------------------------------------\n",
      "\n"
     ]
    }
   ],
   "source": [
    "def call_openai_with_max_tokens(max_tokens):\n",
    "    response = client.chat.completions.create(\n",
    "          model=GPT_MODEL,\n",
    "          messages = [{\"role\":\"system\", \"content\":\"You are a helpful assistant.\"},\n",
    "                    {\"role\":\"user\",\"content\": \"The best pet is a\"}],\n",
    "                    max_tokens=max_tokens\n",
    "    )\n",
    "    return response.choices[0].message.content\n",
    "\n",
    "# Generate with different presence_penalty values\n",
    "max_tokens = [16, 32, 60, 100]\n",
    "for token in max_tokens:\n",
    "    print(f\"Max Tokens: {token}\\n\")\n",
    "    print(call_openai_with_max_tokens(token))\n",
    "    print(\"\\n\" + \"-\"*80 + \"\\n\")\n"
   ]
  },
  {
   "cell_type": "markdown",
   "metadata": {},
   "source": [
    "# Temperature - Controls the randomness of the output. \n",
    "- Lower Value : 0\n",
    "- Higher Value : 1"
   ]
  },
  {
   "cell_type": "code",
   "execution_count": 7,
   "metadata": {},
   "outputs": [],
   "source": [
    "SEED = 123\n",
    "def call_openai(num_times, prompt, temperature=0.75, use_seed=False):\n",
    "    for i in range(num_times):\n",
    "        if use_seed:\n",
    "            response = client.chat.completions.create(\n",
    "                model=GPT_MODEL,\n",
    "                messages = [{\"role\":\"system\", \"content\":\"You are a helpful assistant.\"},\n",
    "                            {\"role\":\"user\",\"content\": prompt}],\n",
    "                    max_tokens=60,\n",
    "                    seed=SEED,\n",
    "                    temperature = temperature\n",
    "            )\n",
    "        else:\n",
    "            response = client.chat.completions.create(\n",
    "                model=GPT_MODEL,\n",
    "                messages = [{\"role\":\"system\", \"content\":\"You are a helpful assistant.\"},\n",
    "                            {\"role\":\"user\",\"content\": prompt}],\n",
    "                    max_tokens=60,\n",
    "                    temperature = temperature\n",
    "            )\n",
    "        print(response.choices[0].message.content)"
   ]
  },
  {
   "cell_type": "code",
   "execution_count": 5,
   "metadata": {},
   "outputs": [
    {
     "name": "stdout",
     "output_type": "stream",
     "text": [
      "The best pet often depends on your lifestyle, living situation, and personal preference. Some popular options include:\n",
      "\n",
      "1. **Dogs** - Known for their loyalty and companionship, they require time for training, exercise, and social interaction.\n",
      "2. **Cats** - More independent than dogs,\n",
      "The best pet often depends on an individual's lifestyle, preferences, and living situation. Dogs, for example, are known for their loyalty and companionship, making them great for families and individuals seeking an active companion. Cats are more independent and are often a good choice for people who want a low-m\n",
      "The best pet is subjective and can vary depending on a person's lifestyle, preferences, and needs. Some popular options include:\n",
      "\n",
      "1. **Dogs** - Known for their loyalty and companionship. Great for active individuals or families who have the time to train and exercise them.\n",
      "\n",
      "2. **C\n",
      "The best pet truly depends on an individual’s lifestyle, preferences, and living situation. Some popular choices include:\n",
      "\n",
      "1. **Dogs** - Known for their loyalty and companionship. Great for active individuals or families.\n",
      "2. **Cats** - More independent than dogs and are well-suited\n",
      "The best pet for you depends on your lifestyle, living situation, and personal preference. Some popular options include:\n",
      "\n",
      "1. Dogs - Great for active individuals or families who have the time for walks and play.\n",
      "2. Cats - Ideal for those looking for a more independent pet that still offers companionship.\n",
      "\n",
      "This depends on your lifestyle and preferences! Different pets suit different people based on factors like space, time, activity level, and allergies. Here are a few common options:\n",
      "\n",
      "1. **Dogs** - Great for active individuals or families who have the time to train and exercise them.\n",
      "2. **\n",
      "The best pet can vary depending on a person's lifestyle, preferences, and living situation, among other factors. Dogs, cats, fish, birds, rabbits, and even reptiles can all make great pets under the right conditions. It's important to choose a pet that fits well with your lifestyle and\n",
      "The best pet really depends on the individual's lifestyle, preferences, and needs. Different pets offer different benefits and require different levels of care. Here are a few options:\n",
      "\n",
      "1. **Dogs:** Great for active individuals or families who have the time for walks and play. They are loyal and can\n",
      "The best pet really depends on your lifestyle, living arrangements, and personal preferences. Some popular options include:\n",
      "\n",
      "1. Dogs: Great for active individuals or families who have the time to invest in training and exercise.\n",
      "2. Cats: Ideal for those looking for a more independent pet that requires less attention than\n",
      "The best pet often depends on your lifestyle, living arrangements, and personal preferences. Some popular choices include:\n",
      "\n",
      "1. **Dogs** - Great for active individuals or families looking for companionship and loyalty. They require time, exercise, and social interaction.\n",
      "2. **Cats** - Perfect for\n"
     ]
    }
   ],
   "source": [
    "# Without seed and temperature, the response is different each time\n",
    "call_openai(10, 'The best pet is a ')"
   ]
  },
  {
   "cell_type": "code",
   "execution_count": 8,
   "metadata": {},
   "outputs": [
    {
     "name": "stdout",
     "output_type": "stream",
     "text": [
      "The best pet really depends on your lifestyle, living situation, and personal preferences. Some popular options include:\n",
      "\n",
      "1. **Dogs**: Known for their loyalty and companionship. Great for active individuals or families.\n",
      "2. **Cats**: More independent than dogs and are usually easier to care for.\n",
      "The best pet really depends on your lifestyle, living situation, and personal preferences. Some popular options include:\n",
      "\n",
      "1. **Dogs** - Known for their loyalty and companionship. They require more attention and exercise, making them ideal for active individuals or families.\n",
      "2. **Cats** - More\n",
      "The best pet really depends on your lifestyle, living situation, and personal preferences. Some popular options include:\n",
      "\n",
      "1. **Dogs**: Known for their loyalty and companionship. Great for active individuals or families.\n",
      "2. **Cats**: More independent than dogs and are usually easier to care for.\n",
      "The best pet depends on your lifestyle, living situation, and personal preferences. Some popular options include:\n",
      "\n",
      "1. **Dogs** - Known for their loyalty and companionship. Great for active individuals or families.\n",
      "2. **Cats** - More independent than dogs and are suitable for smaller living spaces\n",
      "The best pet depends on your lifestyle, living situation, and personal preferences. Some popular options include:\n",
      "\n",
      "1. **Dogs** - Known for their loyalty and companionship. They require more attention and exercise, making them ideal for active individuals or families.\n",
      "2. **Cats** - More independent\n",
      "The best pet really depends on your lifestyle, living situation, and personal preferences. Some popular options include:\n",
      "\n",
      "1. **Dogs**: Known for their loyalty and companionship. Great for active individuals or families.\n",
      "2. **Cats**: More independent than dogs and are usually easier to care for.\n",
      "The best pet really depends on your lifestyle, living situation, and personal preferences. Some popular options include:\n",
      "\n",
      "1. **Dogs**: Known for their loyalty and companionship. Great for active individuals or families.\n",
      "2. **Cats**: More independent than dogs and are usually easier to care for.\n",
      "The best pet depends on your lifestyle, living situation, and personal preferences. Some popular options include:\n",
      "\n",
      "1. **Dogs** - Known for their loyalty and companionship. They require more attention and exercise, making them ideal for active individuals or families.\n",
      "2. **Cats** - More independent\n",
      "The best pet really depends on your lifestyle, living situation, and personal preferences. Some popular options include:\n",
      "\n",
      "1. **Dogs**: Known for their loyalty and companionship. They require more attention and exercise, making them ideal for active individuals or families.\n",
      "2. **Cats**: More independent than\n",
      "The best pet really depends on your lifestyle, living situation, and personal preferences. Some popular options include:\n",
      "\n",
      "1. **Dogs**: Known for their loyalty and companionship. They require more attention and exercise, making them ideal for active individuals or families.\n",
      "2. **Cats**: More independent than\n"
     ]
    }
   ],
   "source": [
    "# Now using a seed and 0 temperature, the response is the much more consisitent\n",
    "call_openai(10, 'The best pet is a ', temperature = 0, use_seed=True)"
   ]
  },
  {
   "cell_type": "markdown",
   "metadata": {},
   "source": [
    "# n - number of completion. Default value : 1"
   ]
  },
  {
   "cell_type": "code",
   "execution_count": 9,
   "metadata": {},
   "outputs": [
    {
     "name": "stdout",
     "output_type": "stream",
     "text": [
      "0 The best pet ultimately depends on your lifestyle, living conditions, and preferences. Some people might prefer dogs for their loyalty and companionship. Others might choose cats due to their independent nature and low maintenance. Small pets like guinea pigs, hamsters, and fish could be great for smaller living spaces or\n",
      "1 The best pet for someone depends on their lifestyle, living situation, and personal preferences. Some people might find a dog to be the best companion because of its loyalty and ability to be trained. Others might prefer cats for their independence and low-maintenance care. Still others might choose pets like birds, fish\n"
     ]
    }
   ],
   "source": [
    "response = client.chat.completions.create(\n",
    "            model=GPT_MODEL,\n",
    "            messages = [{\"role\":\"system\", \"content\":\"You are a helpful assistant.\"},\n",
    "                        {\"role\":\"user\",\"content\": \"The best pet is a \"}],\n",
    "                max_tokens=60,\n",
    "                n=2\n",
    "        )\n",
    "\n",
    "for index, c in enumerate(response.choices):\n",
    "    print(index, c.message.content)"
   ]
  },
  {
   "cell_type": "markdown",
   "metadata": {},
   "source": [
    "# presence_penalty - Penalizes new tokens based on whether they appear in the text so far, encouraging the model to use new tokens.\n",
    "- Valid Range between -2.0 to 2.0\n",
    "- default value : 0"
   ]
  },
  {
   "cell_type": "code",
   "execution_count": 10,
   "metadata": {},
   "outputs": [
    {
     "name": "stdout",
     "output_type": "stream",
     "text": [
      "Presence Penalty: 0\n",
      "\n",
      "The best pet truly depends on your lifestyle, living environment, and personal preferences. Pets like dogs, cats, and fishes are popular, but the best pet for each individual can vary based on factors such as time availability, space, allergies, and personal activity level. It's important to choose a pet\n",
      "\n",
      "--------------------------------------------------------------------------------\n",
      "\n",
      "Presence Penalty: 0.5\n",
      "\n",
      "The best pet ultimately depends on your personal preferences, lifestyle, and living situation. Some popular options include:\n",
      "\n",
      "1. **Dogs** - Known for their loyalty and companionship. They require plenty of exercise, training, and social interaction.\n",
      "2. **Cats** - More independent than dogs,\n",
      "\n",
      "--------------------------------------------------------------------------------\n",
      "\n",
      "Presence Penalty: 1.0\n",
      "\n",
      "The best pet really depends on your lifestyle, living conditions, and personal preferences. Here are a few commonly preferred options:\n",
      "\n",
      "1. **Dogs:** They are loyal, friendly, and great companions. They require plenty of exercise and attention.\n",
      "2. **Cats:** Generally more independent than dogs,\n",
      "\n",
      "--------------------------------------------------------------------------------\n",
      "\n",
      "Presence Penalty: 1.5\n",
      "\n",
      "The best pet often depends on an individual's lifestyle, personal preferences, and the environment they live in. Popular choices include dogs, cats, birds, fish, or small mammals like rabbits and hamsters. Each type of pet offers different benefits and requires varying levels of care and attention. Choosing the best\n",
      "\n",
      "--------------------------------------------------------------------------------\n",
      "\n",
      "Presence Penalty: 2.0\n",
      "\n",
      "The best pet depends on your lifestyle, household, and preferences. Some popular choices include:\n",
      "\n",
      "1. **Dogs** - They are loyal and offer companionship and protection. Suitable for active households.\n",
      "2. **Cats** - Independent yet affectionate, they require less attention than dogs and are\n",
      "\n",
      "--------------------------------------------------------------------------------\n",
      "\n"
     ]
    }
   ],
   "source": [
    "def call_openai_with_presence_penalty(presence_penalty):\n",
    "    response = client.chat.completions.create(\n",
    "          model=GPT_MODEL,\n",
    "          messages = [{\"role\":\"system\", \"content\":\"You are a helpful assistant.\"},\n",
    "                    {\"role\":\"user\",\"content\": \"The best pet is a\"}],\n",
    "                    max_tokens=60,\n",
    "                    presence_penalty=presence_penalty\n",
    "    )\n",
    "    return response.choices[0].message.content\n",
    "\n",
    "# Generate with different presence_penalty values\n",
    "penalties = [0, 0.5, 1.0, 1.5, 2.0]\n",
    "for penalty in penalties:\n",
    "    print(f\"Presence Penalty: {penalty}\\n\")\n",
    "    print(call_openai_with_presence_penalty(penalty))\n",
    "    print(\"\\n\" + \"-\"*80 + \"\\n\")"
   ]
  },
  {
   "cell_type": "markdown",
   "metadata": {},
   "source": [
    "# frequency_penalty - Penalizes new tokens based on their existing frequency in the text so far, reducing the likelihood of repeating the same line verbatim. \n",
    "- Valid Range between -2.0 to 2.0\n",
    "- default value : 0"
   ]
  },
  {
   "cell_type": "code",
   "execution_count": 11,
   "metadata": {},
   "outputs": [
    {
     "name": "stdout",
     "output_type": "stream",
     "text": [
      "Presence Penalty: 0\n",
      "\n",
      "The best pet really depends on an individual's lifestyle, preferences, and living situation. Some might consider dogs or cats as the best pets due to their companionship and various breeds to choose from. Others might prefer lower-maintenance pets like fish, reptiles, or birds. Additionally, factors like allergies\n",
      "\n",
      "--------------------------------------------------------------------------------\n",
      "\n",
      "Presence Penalty: 0.5\n",
      "\n",
      "The best pet often depends on an individual's specific circumstances, preferences, and lifestyle. Different pets have different needs and can fit differently into people's lives. For some, dogs might be the best pet because they foster active lifestyles and provide companionship. For others, cats are ideal due to their independent\n",
      "\n",
      "--------------------------------------------------------------------------------\n",
      "\n",
      "Presence Penalty: 1.0\n",
      "\n",
      "The best pet can vary depending on an individual's lifestyle, preferences, and needs. Some people might find dogs to be the best companions for their active lifestyles and loyalty, while others might prefer cats due to their independent nature and ease of care. Other popular options might include birds, fish, hamsters\n",
      "\n",
      "--------------------------------------------------------------------------------\n",
      "\n",
      "Presence Penalty: 1.5\n",
      "\n",
      "The best pet can vary depending on a person's lifestyle, preferences, and needs. Some popular options include:\n",
      "\n",
      "1. **Dogs** - Often considered great companions due to their loyalty and affectionate nature. They require regular exercise and mental stimulation.\n",
      "2. **Cats** - Known for being\n",
      "\n",
      "--------------------------------------------------------------------------------\n",
      "\n",
      "Presence Penalty: 2.0\n",
      "\n",
      "The best pet depends on a person's lifestyle, environment, and personal preferences. Some popular options include:\n",
      "\n",
      "1. **Dogs** - Known for their loyalty and companionship. Ideal for active individuals or families looking for an energetic and interactive pet.\n",
      "2. **Cats** - Independent yet affection\n",
      "\n",
      "--------------------------------------------------------------------------------\n",
      "\n"
     ]
    }
   ],
   "source": [
    "def call_openai_with_presence_penalty(presence_penalty):\n",
    "    response = client.chat.completions.create(\n",
    "          model=GPT_MODEL,\n",
    "          messages = [{\"role\":\"system\", \"content\":\"You are a helpful assistant.\"},\n",
    "                    {\"role\":\"user\",\"content\": \"The best pet is a\"}],\n",
    "                    max_tokens=60,\n",
    "                    presence_penalty=presence_penalty\n",
    "    )\n",
    "    return response.choices[0].message.content\n",
    "\n",
    "# Generate with different presence_penalty values\n",
    "penalties = [0, 0.5, 1.0, 1.5, 2.0]\n",
    "for penalty in penalties:\n",
    "    print(f\"Presence Penalty: {penalty}\\n\")\n",
    "    print(call_openai_with_presence_penalty(penalty))\n",
    "    print(\"\\n\" + \"-\"*80 + \"\\n\")"
   ]
  },
  {
   "cell_type": "markdown",
   "metadata": {},
   "source": [
    "# Best Practices\n",
    "- Optimize Prompt Length - Keep your prompts concise but informative to ensure the model has enough context.Adjust \n",
    "- Temperature and Top_p - Use these parameters to balance between deterministic and creative responses.\n",
    "- Monitor Token Usage - Be mindful of the max_tokens parameter to manage costs and response length.\n",
    "- Use Stopping Sequences - Define stopping sequences to control where the model should stop generating text, ensuring the output is - within the desired context.\n",
    "- Generate Multiple Completions - Use the n parameter to generate multiple completions and select the best one for your needs."
   ]
  }
 ],
 "metadata": {
  "kernelspec": {
   "display_name": "local",
   "language": "python",
   "name": "python3"
  },
  "language_info": {
   "codemirror_mode": {
    "name": "ipython",
    "version": 3
   },
   "file_extension": ".py",
   "mimetype": "text/x-python",
   "name": "python",
   "nbconvert_exporter": "python",
   "pygments_lexer": "ipython3",
   "version": "3.10.15"
  }
 },
 "nbformat": 4,
 "nbformat_minor": 2
}
