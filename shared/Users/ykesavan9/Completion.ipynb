{
 "cells": [
  {
   "cell_type": "code",
   "execution_count": null,
   "metadata": {},
   "outputs": [],
   "source": [
    "%pip install --upgrade pip"
   ]
  },
  {
   "cell_type": "code",
   "execution_count": null,
   "metadata": {},
   "outputs": [],
   "source": [
    "%pip install -q python-dotenv openai azure-identity "
   ]
  },
  {
   "cell_type": "code",
   "execution_count": null,
   "metadata": {},
   "outputs": [],
   "source": [
    "import os\n",
    "import json\n",
    "from dotenv import load_dotenv\n",
    "from openai import AzureOpenAI\n",
    "\n",
    "load_dotenv()\n",
    "\n",
    "print(os.getenv(\"AOAI_ENDPOINT\"))\n",
    "print(os.getenv(\"AOAI_KEY\"))\n",
    "\n",
    "client = AzureOpenAI(\n",
    "    azure_endpoint=os.getenv(\"AOAI_ENDPOINT\"),\n",
    "    api_version=\"2023-05-15\",\n",
    "    api_key=os.getenv(\"AOAI_KEY\")\n",
    "    )\n",
    "\n",
    "models = client.models.list()\n",
    "\n",
    "with open('azure-oai-models.json', 'w') as file:\n",
    "    models_dict = [model.__dict__ for model in models]\n",
    "    json.dump(models_dict, file)\n",
    "\n",
    "for model in models:\n",
    "    print(\"ID:\", model.id)\n",
    "    print(\"Current status:\", model.lifecycle_status)\n",
    "    print(\"Model capabilities:\", model.capabilities)\n",
    "    print(\"-------------------\")\n"
   ]
  },
  {
   "cell_type": "code",
   "execution_count": null,
   "metadata": {},
   "outputs": [],
   "source": [
    "import os\n",
    "from openai import AzureOpenAI\n",
    "from dotenv import load_dotenv\n",
    "\n",
    "load_dotenv()\n",
    "\n",
    "client = AzureOpenAI(\n",
    "    azure_endpoint=os.getenv(\"AOAI_ENDPOINT\"),\n",
    "    api_version=\"2024-05-01-preview\",\n",
    "    api_key=os.getenv(\"AOAI_KEY\"))\n",
    "\n",
    "GPT_MODEL = \"gpt-35-turbo\"\n",
    "\n",
    "prompt_startphrase = \"Suggest three names for a new pet salon business. The generated name ideas should evoke positive emotions and the following key features: Professional, friendly, Personalized Service.\"\n",
    "\n",
    "response = client.completions.create(\n",
    "    model=GPT_MODEL,\n",
    "    prompt=prompt_startphrase,\n",
    "    temperature=0.7,\n",
    "    max_tokens=100,\n",
    "    #best_of=5,\n",
    "    n=3,\n",
    "    stop=None)\n",
    "\n",
    "responsetext = response.choices[0].text\n",
    "\n",
    "print(\"Prompt:\" + prompt_startphrase + \"\\nResponse:\" + responsetext)\n"
   ]
  },
  {
   "cell_type": "code",
   "execution_count": null,
   "metadata": {},
   "outputs": [],
   "source": [
    "import os\n",
    "from openai import AzureOpenAI\n",
    "\n",
    "client = AzureOpenAI(\n",
    "    azure_endpoint=os.getenv(\"AOAI_ENDPOINT\"),\n",
    "    api_version=\"2024-05-01-preview\",\n",
    "    api_key=os.getenv(\"AOAI_KEY\"))\n",
    "\n",
    "# This model name is what you chose when you deployed the model in Azure OpenAI\n",
    "GPT_MODEL = \"gpt-35-turbo\"\n",
    "\n",
    "prompt_startphrase = \"Suggest three names for a new pet salon business. The generated name ideas should evoke positive emotions and the following key features: Professional, friendly, Personalized Service.\"\n",
    "\n",
    "response = client.completions.create(\n",
    "    model=GPT_MODEL,  \n",
    "    prompt=prompt_startphrase,\n",
    "    temperature=0.8,\n",
    "    max_tokens=100,\n",
    "    logit_bias={\n",
    "        30026:-100,\n",
    "        81:-100,\n",
    "        9330:-100,\n",
    "        808:-100,\n",
    "        42114:-100,\n",
    "        1308:-100, \n",
    "        3808:-100,\n",
    "        502:-100,\n",
    "        322:-100}\n",
    "    )  \n",
    "  \n",
    "responsetext = response.choices[0].text\n",
    "print(responsetext)"
   ]
  },
  {
   "cell_type": "code",
   "execution_count": 46,
   "metadata": {},
   "outputs": [
    {
     "name": "stdout",
     "output_type": "stream",
     "text": [
      "Sure, I can help you with that. \n",
      "\n",
      "Pets, especially dogs, can provide numerous benefits for humans. Here are a few reasons why dogs are good for humans:\n",
      "\n",
      "1. Companionship: Dogs are loyal companions and can provide a great source of comfort and emotional support for their owners.\n",
      "\n",
      "2. Exercise: Dogs need regular exercise, so they can motivate their owners to get outside and engage in physical activity, which is beneficial for both the owner and the dog.\n",
      "\n",
      "3. Stress reduction: Studies have shown that spending time with dogs can reduce stress levels and promote relaxation.\n",
      "\n",
      "4. Socialization: Dogs can also help their owners socialize and meet new people, as they often act as conversation starters and can help break the ice in social situations.\n",
      "\n",
      "5. Health benefits: Some studies have suggested that owning a dog can lower blood pressure, reduce the risk of heart disease, and even boost the immune system.\n",
      "\n",
      "Overall, dogs can bring a lot of joy and happiness to people's lives, and can be great companions for people of all ages.\n"
     ]
    }
   ],
   "source": [
    "import os\n",
    "from openai import AzureOpenAI\n",
    "\n",
    "client = AzureOpenAI(\n",
    "    azure_endpoint=os.getenv(\"AOAI_ENDPOINT\"),\n",
    "    api_version=\"2024-05-01-preview\",\n",
    "    api_key=os.getenv(\"AOAI_KEY\"))\n",
    "\n",
    "# This model name is what you chose when you deployed the model in Azure OpenAI\n",
    "GPT_MODEL = \"gpt-35-turbo\"\n",
    "\n",
    "response = client.chat.completions.create(\n",
    "    model=GPT_MODEL,\n",
    "    messages = [\n",
    "        {\"role\":\"system\",\"content\":\"You are an AI assistant that helps people find information.\"},\n",
    "        {\"role\":\"user\",\"content\":\"Hello world\"},\n",
    "        {\"role\":\"assistant\",\"content\":\"Hello! How can I assist you today?\"},\n",
    "        {\"role\":\"user\",\"content\":\"I want to know more about pets and why dogs are good for humans?\"}],\n",
    "    temperature=0.8,\n",
    "    max_tokens=800,\n",
    "    top_p=0.95,\n",
    "    frequency_penalty=0,\n",
    "    presence_penalty=0,\n",
    "    stop=None\n",
    ")\n",
    "\n",
    "print(response.choices[0].message.content)"
   ]
  },
  {
   "cell_type": "code",
   "execution_count": null,
   "metadata": {},
   "outputs": [],
   "source": [
    "import os\n",
    "from openai import AzureOpenAI\n",
    "import tiktoken\n",
    "\n",
    "client = AzureOpenAI(\n",
    "    azure_endpoint=os.getenv(\"AOAI_ENDPOINT\"),\n",
    "    api_version=\"2024-05-01-preview\",\n",
    "    api_key=os.getenv(\"AOAI_KEY\"))\n",
    "\n",
    "# This model name is what you chose when you deployed the model in Azure OpenAI\n",
    "GPT_MODEL = \"gpt-35-turbo\"\n",
    "\n",
    "system_message = {\"role\": \"system\", \"content\": \"You are a helpful assistant.\"}\n",
    "max_response_tokens = 250\n",
    "token_limit = 4096\n",
    "conversation = []\n",
    "conversation.append(system_message)\n",
    "\n",
    "def num_tokens_from_messages(messages):\n",
    "    encoding= tiktoken.get_encoding(\"cl100k_base\")\n",
    "    num_tokens = 0\n",
    "    for message in messages:\n",
    "        num_tokens += 4           # every message follows <im_start>{role/name}\\n{content}<im_end>\\n\n",
    "        for key, value in message.items():\n",
    "            num_tokens += len(encoding.encode(value))\n",
    "            if key == \"name\":     # if there's a name, the role is omitted\n",
    "                num_tokens += -1  # role is always required and always 1 token\n",
    "    num_tokens += 2               # every reply is primed with <im_start>assistant\n",
    "    return num_tokens\n",
    "\n",
    "print(\"I am a helpful assistant. I can talk about pets and salons. What would you like to talk about?\")\n",
    "\n",
    "while True:\n",
    "    user_input = input(\"\")     \n",
    "    conversation.append({\"role\": \"user\", \"content\": user_input})\n",
    "    conv_history_tokens = num_tokens_from_messages(conversation)\n",
    "\n",
    "    while conv_history_tokens + max_response_tokens >= token_limit:\n",
    "        del conversation[1] \n",
    "        conv_history_tokens = num_tokens_from_messages(conversation)\n",
    "\n",
    "    response = client.chat.completions.create(\n",
    "        model=GPT_MODEL,\n",
    "        messages=conversation,\n",
    "        temperature=0.8,\n",
    "        max_tokens=max_response_tokens)\n",
    "\n",
    "    conversation.append({\"role\": \"assistant\", \"content\": response.choices[0].message.content})\n",
    "    print(\"\\n\" + response.choices[0].message.content)\n",
    "    print(\"(Tokens used: \" + str(response.usage.total_tokens)  + \")\")"
   ]
  },
  {
   "cell_type": "markdown",
   "metadata": {},
   "source": [
    "# Create Client with gpt-35-turbo model"
   ]
  },
  {
   "cell_type": "code",
   "execution_count": 51,
   "metadata": {},
   "outputs": [],
   "source": [
    "from dotenv import load_dotenv\n",
    "from openai import AzureOpenAI\n",
    "import os\n",
    "\n",
    "load_dotenv()\n",
    "\n",
    "client = AzureOpenAI(\n",
    "    azure_endpoint=os.getenv(\"AOAI_ENDPOINT\"),\n",
    "    api_version=\"2024-06-01\",\n",
    "    api_key=os.getenv(\"AOAI_KEY\"))\n",
    "\n",
    "#GPT_MODEL = \"gpt-35-turbo\"\n",
    "GPT_MODEL = \"gpt-4\"\n",
    "\n",
    "def chat_msg(prompt):\n",
    "    response = client.chat.completions.create(\n",
    "        model=GPT_MODEL,\n",
    "        messages = [{\"role\":\"system\", \"content\":\"You are a helpful assistant.\"},\n",
    "               {\"role\":\"user\",\"content\":prompt},])\n",
    "    print(response.choices[0].message.content)"
   ]
  },
  {
   "cell_type": "markdown",
   "metadata": {},
   "source": [
    "# Prompt Design"
   ]
  },
  {
   "cell_type": "code",
   "execution_count": 52,
   "metadata": {},
   "outputs": [
    {
     "name": "stdout",
     "output_type": "stream",
     "text": [
      "Grammar is the structure and system of a language, consisting of syntax, morphology, and often phonetics, among other things. It establishes rules for composing clauses, phrases, and words in any language. Here's a basic breakdown of how grammar works in English:\n",
      "\n",
      "1. **Parts of Speech**: Understanding parts of speech is fundamental in learning how grammar works. The main parts of speech include:\n",
      "   - **Nouns**: Words used to identify people, places, things, or ideas (e.g., cat, school, happiness).\n",
      "   - **Pronouns**: Words that take the place of nouns (e.g., he, she, it, they).\n",
      "   - **Verbs**: Words that express action or being (e.g., run, seem).\n",
      "   - **Adjectives**: Words that describe nouns (e.g., blue, quick, tall).\n",
      "   - **Adverbs**: Words that modify verbs, adjectives, or other adverbs (e.g., quickly, very, well).\n",
      "   - **Prepositions**: Words used before nouns or pronouns to form phrases indicating time, place, or possession (e.g., in, on, at, between).\n",
      "   - **Conjunctions**: Words that join words, phrases, or clauses (e.g., and, but, because).\n",
      "   - **Interjections**: Words or phrases that express emotion or exclamation (e.g., wow!, oh no!).\n",
      "\n",
      "2. **Syntax**: This is the set of rules that governs the structure of sentences. It dictates how words and phrases should be arranged to convey specific meanings. Syntax covers:\n",
      "   - **Sentence Structure**: The order in which different parts of speech must be placed to form coherent sentences. In English, the basic sentence structure is usually subject-verb-object.\n",
      "   - **Agreement**: Ensuring that the subject and verb agree in number and tense, and that pronouns agree with their antecedents.\n",
      "   - **Clauses and Phrases**: A clause contains a subject and a predicate (verb), while a phrase lacks either or both. Understanding how to use different clauses and phrases (dependent, independent, adverbial, etc.) is crucial to creating complex sentences.\n",
      "\n",
      "3. **Morphology**: This involves the study of how words are formed and their relationship to other words in the same language. It includes:\n",
      "   - **Word Formation**: Using prefixes, suffixes, and root words to create new words (unhappy, happiness).\n",
      "   - **Inflection**: The modification of a word to express different grammatical categories such as tense, mood, voice, aspect, person, number, gender, and case.\n",
      "\n",
      "4. **Punctuation**: Using symbols (like commas, periods, question marks) to clarify meaning and indicate pauses or intonations in sentences.\n",
      "\n",
      "5. **Usage**: This refers to the conventional ways in which words are used to communicate effectively, including idioms, colloquialisms, and register (formal vs. informal language).\n",
      "\n",
      "Understanding and mastering these aspects of grammar leads to clear, effective communication and helps avoid ambiguity in language. This brief overview offers a foundational look at how grammar structures the way we communicate in English. Each language has its own specific grammatical rules and structures, so learning grammar will differ slightly depending on the language you are studying.\n"
     ]
    }
   ],
   "source": [
    "text_prompt = \"how grammar works\"\n",
    "chat_msg(text_prompt)"
   ]
  },
  {
   "cell_type": "markdown",
   "metadata": {},
   "source": [
    "# Summarize Text - \\n\\nTl;dr"
   ]
  },
  {
   "cell_type": "code",
   "execution_count": 53,
   "metadata": {},
   "outputs": [
    {
     "name": "stdout",
     "output_type": "stream",
     "text": [
      "Scaling up language models significantly boosts their ability to perform new language tasks with minimal examples, sometimes matching or surpassing the performance of models that have been extensively trained on task-specific data.\n"
     ]
    }
   ],
   "source": [
    "prompt = \"Recent work has demonstrated substantial gains on many NLP tasks and benchmarks by pre-training on a large corpus of text followed by fine-tuning on a specific task. While typically task-agnostic in architecture, this method still requires task-specific fine-tuning datasets of thousands or tens of thousands of examples. By contrast, humans can generally perform a new language task from only a few examples or from simple instructions - something which current NLP systems still largely struggle to do. Here we show that scaling up language models greatly improves task-agnostic, few-shot performance, sometimes even reaching competitiveness with prior state-of-the-art fine-tuning approaches.\\n\\nTl;dr\"\n",
    "chat_msg(prompt)"
   ]
  },
  {
   "cell_type": "markdown",
   "metadata": {},
   "source": [
    "# Classify Text"
   ]
  },
  {
   "cell_type": "code",
   "execution_count": 54,
   "metadata": {},
   "outputs": [
    {
     "name": "stdout",
     "output_type": "stream",
     "text": [
      "Hardware Support\n"
     ]
    }
   ],
   "source": [
    "prompt = \"Classify the following inquiry into one of the following: categories: [Pricing, Hardware Support, Software Support]\\n\\ninquiry: Hello, one of the keys on my laptop keyboard broke recently and I'll need a replacement:\\n\\nClassified category:\"\n",
    "chat_msg(prompt)"
   ]
  },
  {
   "cell_type": "markdown",
   "metadata": {},
   "source": [
    "# Generate new product names"
   ]
  },
  {
   "cell_type": "code",
   "execution_count": 55,
   "metadata": {},
   "outputs": [
    {
     "name": "stdout",
     "output_type": "stream",
     "text": [
      "Product names: AdaptStep, OmniShoe, FitFlex, UniSize Step\n"
     ]
    }
   ],
   "source": [
    "prompt = \"Product description: A home milkshake maker\\nSeed words: fast, healthy, compact.\\nProduct names: HomeShaker, Fit Shaker, QuickShake, Shake Maker\\n\\nProduct description: A pair of shoes that can fit any foot size.\\nSeed words: adaptable, fit, omni-fit.\"\n",
    "chat_msg(prompt)"
   ]
  },
  {
   "cell_type": "markdown",
   "metadata": {},
   "source": [
    "# Ask Q & A"
   ]
  },
  {
   "cell_type": "code",
   "execution_count": 56,
   "metadata": {},
   "outputs": [
    {
     "name": "stdout",
     "output_type": "stream",
     "text": [
      "The 2020 Summer Olympics men's high jump ended in a rare and remarkable tie for the gold medal between Mutaz Essa Barshim of Qatar and Gianmarco Tamberi of Italy.\n"
     ]
    }
   ],
   "source": [
    "prompt = \"\"\"Answer the question as truthfully as possible, and if you're unsure of the answer, say \"Sorry, I don't know\".\n",
    "\n",
    "Q: Who won the 2020 Summer Olympics men's high jump?\n",
    "A:\"\"\"\n",
    "chat_msg(prompt)"
   ]
  },
  {
   "cell_type": "markdown",
   "metadata": {},
   "source": [
    "# Analyzing Customer Feedback"
   ]
  },
  {
   "cell_type": "code",
   "execution_count": 57,
   "metadata": {},
   "outputs": [
    {
     "name": "stdout",
     "output_type": "stream",
     "text": [
      "The first customer feedback is negative, and the second customer feedback is positive.\n"
     ]
    }
   ],
   "source": [
    "prompt = \"\"\"Decide whether the following customer feedback is positive or negative.\n",
    "\n",
    "Q: I was disappointed with the quality of the product. It was very cheaply made and did not meet my expectations at all.\n",
    "Q: I was happy with this product, it is well made and great quality for the price.\n",
    "\"\"\"\n",
    "chat_msg(prompt)"
   ]
  },
  {
   "cell_type": "markdown",
   "metadata": {},
   "source": [
    "# Extracting PII Data"
   ]
  },
  {
   "cell_type": "code",
   "execution_count": 58,
   "metadata": {},
   "outputs": [
    {
     "name": "stdout",
     "output_type": "stream",
     "text": [
      "Here is the Personally Identifiable Information (PII) found in the statement:\n",
      "\n",
      "1. Full name: John Doe\n",
      "2. Age: 35\n",
      "3. Home address: 21 Main Street, New York, NY\n",
      "4. Employer: Microsoft\n",
      "5. Spouse's name: Jane Doe\n",
      "6. Mention of having two children (indirectly personal information related to family structure)\n"
     ]
    }
   ],
   "source": [
    "prompt = \"\"\"List all PII data from following statement:\n",
    "John Doe is a 35-year old man and he lives at 21 Main Street, New York, NY. He is a software engineer and he works at Microsft. He has a wife named Jane Doe and they have two children\n",
    "\"\"\"\n",
    "chat_msg(prompt)"
   ]
  },
  {
   "cell_type": "markdown",
   "metadata": {},
   "source": [
    "# Embeddings\n",
    "- find similarity between words, sentences, and documents"
   ]
  },
  {
   "cell_type": "code",
   "execution_count": 59,
   "metadata": {},
   "outputs": [
    {
     "name": "stdout",
     "output_type": "stream",
     "text": [
      "0.36813609201882325\n",
      "0.44352696470486064\n",
      "0.6689407064684705\n",
      "0.7729866110986178\n"
     ]
    }
   ],
   "source": [
    "import numpy as np\n",
    "model=\"text-embedding-3-small\"\n",
    "\n",
    "def cosine_similarity(query_embedding, embeddings, distance_metric='cosine'):\n",
    "    if distance_metric == 'cosine':\n",
    "        distances = np.dot(embeddings, query_embedding) / (np.linalg.norm(embeddings) * np.linalg.norm(query_embedding))\n",
    "        distances = 1 - distances  \n",
    "    else:\n",
    "        raise ValueError(\"Métrica de distância não suportada. Utilize 'cosine'.\")\n",
    "\n",
    "    return distances\n",
    "\n",
    "automobile_embedding    = client.embeddings.create(input='automobile', model=model).data[0].embedding\n",
    "vehicle_embedding       = client.embeddings.create(input='vehicle', model=model).data[0].embedding\n",
    "car_embedding           = client.embeddings.create(input='car', model=model).data[0].embedding\n",
    "dinosaur_embedding      = client.embeddings.create(input='dinosaur', model=model).data[0].embedding\n",
    "stick_embedding         = client.embeddings.create(input='stick', model=model).data[0].embedding\n",
    "\n",
    "print(cosine_similarity(automobile_embedding, vehicle_embedding))\n",
    "print(cosine_similarity(automobile_embedding, car_embedding))\n",
    "print(cosine_similarity(automobile_embedding, dinosaur_embedding))\n",
    "print(cosine_similarity(automobile_embedding, stick_embedding))"
   ]
  },
  {
   "cell_type": "markdown",
   "metadata": {},
   "source": [
    "# Comparing article from news dataset"
   ]
  },
  {
   "cell_type": "code",
   "execution_count": 61,
   "metadata": {},
   "outputs": [
    {
     "name": "stdout",
     "output_type": "stream",
     "text": [
      "0.6693155375025988\n",
      "0.8841862966109504\n"
     ]
    }
   ],
   "source": [
    "import pandas as pd\n",
    "cnn_daily_articles = ['BREMEN, Germany -- Carlos Alberto, who scored in FC Porto\\'s Champions League final victory against Monaco in 2004, has joined Bundesliga club Werder Bremen for a club record fee of 7.8 million euros ($10.7 million). Carlos Alberto enjoyed success at FC Porto under Jose Mourinho. \"I\\'m here to win titles with Werder,\" the 22-year-old said after his first training session with his new club. \"I like Bremen and would only have wanted to come here.\" Carlos Alberto started his career with Fluminense, and helped them to lift the Campeonato Carioca in 2002. In January 2004 he moved on to FC Porto, who were coached by José Mourinho, and the club won the Portuguese title as well as the Champions League. Early in 2005, he moved to Corinthians, where he impressed as they won the Brasileirão,but in 2006 Corinthians had a poor season and Carlos Alberto found himself at odds with manager, Emerson Leão. Their poor relationship came to a climax at a Copa Sul-Americana game against Club Atlético Lanús, and Carlos Alberto declared that he would not play for Corinthians again while Leão remained as manager. Since January this year he has been on loan with his first club Fluminense. Bundesliga champions VfB Stuttgart said on Sunday that they would sign a loan agreement with Real Zaragoza on Monday for Ewerthon, the third top Brazilian player to join the German league in three days. A VfB spokesman said Ewerthon, who played in the Bundesliga for Borussia Dortmund from 2001 to 2005, was expected to join the club for their pre-season training in Austria on Monday. On Friday, Ailton returned to Germany where he was the league\\'s top scorer in 2004, signing a one-year deal with Duisburg on a transfer from Red Star Belgrade. E-mail to a friend .',\n",
    "                        '(CNN) -- Football superstar, celebrity, fashion icon, multimillion-dollar heartthrob. Now, David Beckham is headed for the Hollywood Hills as he takes his game to U.S. Major League Soccer. CNN looks at how Bekham fulfilled his dream of playing for Manchester United, and his time playing for England. The world\\'s famous footballer has begun a five-year contract with the Los Angeles Galaxy team, and on Friday Beckham will meet the press and reveal his new shirt number. This week, we take an in depth look at the life and times of Beckham, as CNN\\'s very own \"Becks,\" Becky Anderson, sets out to examine what makes the man tick -- as footballer, fashion icon and global phenomenon. It\\'s a long way from the streets of east London to the Hollywood Hills and Becky charts Beckham\\'s incredible rise to football stardom, a journey that has seen his skills grace the greatest stages in world soccer. She goes in pursuit of the current hottest property on the sports/celebrity circuit in the U.S. and along the way explores exactly what\\'s behind the man with the golden boot. CNN will look back at the life of Beckham, the wonderfully talented youngster who fulfilled his dream of playing for Manchester United, his marriage to pop star Victoria, and the trials and tribulations of playing for England. We\\'ll look at the highs (scoring against Greece), the lows (being sent off during the World Cup), the Man. U departure for the Galacticos of Madrid -- and now the Home Depot stadium in L.A. We\\'ll ask how Beckham and his family will adapt to life in Los Angeles -- the people, the places to see and be seen and the celebrity endorsement. Beckham is no stranger to exposure. He has teamed with Reggie Bush in an Adidas commercial, is the face of Motorola, is the face on a PlayStation game and doesn\\'t need fashion tips as he has his own international clothing line. But what does the star couple need to do to become an accepted part of Tinseltown\\'s glitterati? The road to major league football in the U.S.A. is a well-worn route for some of the world\\'s greatest players. We talk to some of the former greats who came before him and examine what impact these overseas stars had on U.S. soccer and look at what is different now. We also get a rare glimpse inside the David Beckham academy in L.A, find out what drives the kids and who are their heroes. The perception that in the U.S.A. soccer is a \"game for girls\" after the teenage years is changing. More and more young kids are choosing the European game over the traditional U.S. sports. E-mail to a friend .',\n",
    "                        'LOS ANGELES, California (CNN) -- Youssif, the 5-year-old burned Iraqi boy, rounded the corner at Universal Studios when suddenly the little boy hero met his favorite superhero. Youssif has always been a huge Spider-Man fan. Meeting him was \"my favorite thing,\" he said. Spider-Man was right smack dab in front of him, riding a four-wheeler amid a convoy of other superheroes. The legendary climber of buildings and fighter of evil dismounted, walked over to Youssif and introduced himself. Spidey then gave the boy from a far-away land a gentle hug, embracing him in his iconic blue and red tights. He showed Youssif a few tricks, like how to shoot a web from his wrist. Only this time, no web was spun. \"All right Youssif!\" Spider-Man said after the boy mimicked his wrist movement. Other superheroes crowded around to get a closer look. Even the Green Goblin stopped his villainous ways to tell the boy hi. Youssif remained unfazed. He didn\\'t take a liking to Spider-Man\\'s nemesis. Spidey was just too cool. \"It was my favorite thing,\" the boy said later. \"I want to see him again.\" He then felt compelled to add: \"I know it\\'s not the real Spider-Man.\" This was the day of dreams when the boy\\'s nightmares were, at least temporarily, forgotten. He met SpongeBob, Lassie and a 3-year-old orangutan named Archie. The hairy, brownish-red primate took to the boy, grabbing his hand and holding it. Even when Youssif pulled away, Archie would inch his hand back toward the boy\\'s and then snatch it. See Youssif enjoy being a boy again » . The boy giggled inside a play area where sponge-like balls shot out of toy guns. It was a far different artillery than what he was used to seeing in central Baghdad, as recently as a week ago. He squealed with delight and raced around the room collecting as many balls as he could. He rode a tram through the back stages at Universal Studios. At one point, the car shook. Fire and smoke filled the air, debris cascaded down and a big rig skidded toward the vehicle. The boy and his family survived the pretend earthquake unscathed. \"Even I was scared,\" the dad said. \"Well, I wasn\\'t,\" Youssif replied. The father and mother grinned from ear to ear throughout the day. Youssif pushed his 14-month-old sister, Ayaa, in a stroller. \"Did you even need to ask us if we were interested in coming here?\" Youssif\\'s father said in amazement. \"Other than my wedding day, this is the happiest day of my life,\" he said. Just a day earlier, the mother and father talked about their journey out of Iraq and to the United States. They also discussed that day nine months ago when masked men grabbed their son outside the family home, doused him in gas and set him on fire. His mother heard her boy screaming from inside. The father sought help for his boy across Baghdad, but no one listened. He remembers his son\\'s two months of hospitalization. The doctors didn\\'t use anesthetics. He could hear his boy\\'s piercing screams from the other side of the hospital. Watch Youssif meet his doctor and play with his little sister » . The father knew that speaking to CNN would put his family\\'s lives in jeopardy. The possibility of being killed was better than seeing his son suffer, he said. \"Anything for Youssif,\" he said. \"We had to do it.\" They described a life of utter chaos in Baghdad. Neighbors had recently given birth to a baby girl. Shortly afterward, the father was kidnapped and killed. Then, there was the time when some girls wore tanktops and jeans. They were snatched off the street by gunmen. The stories can be even more gruesome. The couple said they had heard reports that a young girl was kidnapped and beheaded --and her killers sewed a dog\\'s head on the corpse and delivered it to her family\\'s doorstep. \"These are just some of the stories,\" said Youssif\\'s mother, Zainab. Under Saddam Hussein, there was more security and stability, they said. There was running water and electricity most of the time. But still life was tough under the dictator, like the time when Zainab\\'s uncle disappeared and was never heard from again after he read a \"religious book,\" she said. Sitting in the parking lot of a Target in suburban Los Angeles, Youssif\\'s father watched as husbands and wives, boyfriends and girlfriends, parents and their children, came and went. Some held hands. Others smiled and laughed. \"Iraq finished,\" he said in what few English words he knows. He elaborated in Arabic: His homeland won\\'t be enjoying such freedoms anytime soon. It\\'s just not possible. Too much violence. Too many killings. His two children have only seen war. But this week, the family has seen a much different side of America -- an outpouring of generosity and a peaceful nation at home. \"It\\'s been a dream,\" the father said. He used to do a lot of volunteer work back in Baghdad. \"Maybe that\\'s why I\\'m being helped now,\" the father said. At Universal Studios, he looked out across the valley below. The sun glistened off treetops and buildings. It was a picturesque sight fit for a Hollywood movie. \"Good America, good America,\" he said in English. E-mail to a friend . CNN\\'s Arwa Damon contributed to this report.'\n",
    "]\n",
    "\n",
    "cnn_daily_article_highlights = ['Werder Bremen pay a club record $10.7 million for Carlos Alberto .\\nThe Brazilian midfielder won the Champions League with FC Porto in 2004 .\\nSince January he has been on loan with his first club, Fluminense .',\n",
    "                                'Beckham has agreed to a five-year contract with Los Angeles Galaxy .\\nNew contract took effect July 1, 2007 .\\nFormer English captain to meet press, unveil new shirt number Friday .\\nCNN to look at Beckham as footballer, fashion icon and global phenomenon .',\n",
    "                                'Boy on meeting Spider-Man: \"It was my favorite thing\"\\nYoussif also met SpongeBob, Lassie and an orangutan at Universal Studios .\\nDad: \"Other than my wedding day, this is the happiest day of my life\"' \n",
    "]\n",
    "\n",
    "cnn_df = pd.DataFrame({\"articles\":cnn_daily_articles, \"highligths\":cnn_daily_article_highlights})\n",
    "\n",
    "cnn_df.head() "
   ]
  },
  {
   "cell_type": "code",
   "execution_count": 62,
   "metadata": {},
   "outputs": [
    {
     "name": "stdout",
     "output_type": "stream",
     "text": [
      "0.6693155375025988\n",
      "0.8841862966109504\n"
     ]
    }
   ],
   "source": [
    "\n",
    "article1_embedding    = client.embeddings.create(input=cnn_df.articles.iloc[0], model=model).data[0].embedding\n",
    "article2_embedding    = client.embeddings.create(input=cnn_df.articles.iloc[1], model=model).data[0].embedding\n",
    "article3_embedding    = client.embeddings.create(input=cnn_df.articles.iloc[2], model=model).data[0].embedding\n",
    "\n",
    "print(cosine_similarity(article1_embedding, article2_embedding))\n",
    "print(cosine_similarity(article1_embedding, article3_embedding))"
   ]
  },
  {
   "cell_type": "markdown",
   "metadata": {},
   "source": [
    "# Code Generation\n",
    "\n",
    "## Model Parameters\n",
    "- temperature : Controls the randomness of the output. A value of 0 makes the output more deterministic\n",
    "- max_tokens : The maximum number of tokens in the generated output.\n",
    "- top_p : Controls diversity via nucleus sampling.\n",
    "- frequency_penalty and presence_penalty : These parameters are set to 0 to avoid penalizing the generation of similar words.\n",
    "- stop : Specifies stopping sequences to end the generated text appropriately.\n"
   ]
  },
  {
   "cell_type": "code",
   "execution_count": 63,
   "metadata": {},
   "outputs": [],
   "source": [
    "from dotenv import load_dotenv\n",
    "from openai import AzureOpenAI\n",
    "import os\n",
    "\n",
    "load_dotenv()\n",
    "\n",
    "client = AzureOpenAI(\n",
    "    azure_endpoint=os.getenv(\"AOAI_ENDPOINT\"),\n",
    "    api_version=\"2024-06-01\",\n",
    "    api_key=os.getenv(\"AOAI_KEY\"))\n",
    "\n",
    "#GPT_MODEL = \"gpt-35-turbo\"\n",
    "GPT_MODEL = \"gpt-4\"\n",
    "\n",
    "def gen_code(prompt):\n",
    "    response = client.chat.completions.create(\n",
    "        model=GPT_MODEL,\n",
    "        messages = [{\"role\":\"system\", \"content\":\"You are a helpful assistant.\"},\n",
    "               {\"role\":\"user\",\"content\":prompt},],\n",
    "        temperature=0,\n",
    "        max_tokens=1000,\n",
    "        top_p=1,\n",
    "        frequency_penalty=0,\n",
    "        presence_penalty=0,\n",
    "        stop=[\"#\",\";\"] )\n",
    "    \n",
    "    print(response.choices[0].message.content)\n"
   ]
  },
  {
   "cell_type": "markdown",
   "metadata": {},
   "source": [
    "# Generate SQL Queries  "
   ]
  },
  {
   "cell_type": "code",
   "execution_count": 64,
   "metadata": {},
   "outputs": [
    {
     "name": "stdout",
     "output_type": "stream",
     "text": [
      "### SQL Server tables, with their properties:\n",
      "#\n",
      "# Employee(id, name, department_id)\n",
      "# Department(id, name, address)\n",
      "# Salary_Payments(id, employee_id, amount, date)\n",
      "#\n",
      "### A query to list the names of the departments which employed more than 10 employees in the last 3 months\n",
      "\n",
      " query: \n",
      "To create a SQL query that lists the names of departments which employed more than 10 employees in the last 3 months, we need to consider the `Employee` and `Department` tables, and also take into account the `Salary_Payments` table to filter employees active in the last 3 months based on their salary records. Here's how you can structure the query:\n",
      "\n",
      "```sql\n",
      "SELECT d.name\n",
      "FROM Department d\n",
      "JOIN Employee e ON d.id = e.department_id\n",
      "JOIN Salary_Payments sp ON e.id = sp.employee_id\n",
      "WHERE sp.date >= DATEADD(MONTH, -3, GETDATE())\n",
      "GROUP BY d.name\n",
      "HAVING COUNT(DISTINCT e.id) > 10\n"
     ]
    }
   ],
   "source": [
    "prompt = \"### SQL Server tables, with their properties:\\n#\\n# Employee(id, name, department_id)\\n# Department(id, name, address)\\n# Salary_Payments(id, employee_id, amount, date)\\n#\\n### A query to list the names of the departments which employed more than 10 employees in the last 3 months\\n\\n query: \"\n",
    "print(prompt)\n",
    "gen_code(prompt)"
   ]
  },
  {
   "cell_type": "markdown",
   "metadata": {},
   "source": [
    "# Explaining SQL Code"
   ]
  },
  {
   "cell_type": "code",
   "execution_count": 65,
   "metadata": {},
   "outputs": [
    {
     "name": "stdout",
     "output_type": "stream",
     "text": [
      "Certainly! The SQL query you provided is designed to retrieve the names of departments where more than 10 employees have received salary payments in the last 3 months. Here's a breakdown of each part of the query:\n",
      "\n",
      "1. **SELECT d.name**: This part of the query specifies that the output will be the names of the departments.\n",
      "\n",
      "2. **FROM Department d JOIN Employee e ON d.id = e.department_id**: This part joins two tables: `Department` and `Employee`. It joins these tables on the department ID, meaning it links each employee to their respective department.\n",
      "\n",
      "3. **WHERE e.id IN (SELECT employee_id FROM Salary_Payments WHERE date > now() - interval '3 months')**: This condition filters the employees to include only those who have entries in the `Salary_Payments` table within the last 3 months. The `now() - interval '3 months'` part calculates the date that is three months before the current date.\n",
      "\n",
      "4. **GROUP BY d.name**: This groups the results by the department name. Since the output needs to be the department names, grouping by `d.name` allows the query to aggregate results based on each department.\n",
      "\n",
      "5. **HAVING COUNT(*) > 10**: After grouping the results by department, this condition filters these groups to include only those that have more than 10 employees who received salary payments in the last 3 months.\n",
      "\n",
      "In summary, the query lists the names of departments where more than 10 employees have been paid in the last three months. This could be useful for analyzing departments with high payroll activity or checking compliance with payment regulations.\n"
     ]
    }
   ],
   "source": [
    "code = \"Can you explain what does this code do?\\n#\\n# ###\\n\\\n",
    "   Code:\\n\\\n",
    "   SELECT d.name FROM Department d JOIN Employee e ON d.id = e.department_id WHERE e.id IN (SELECT employee_id FROM Salary_Payments WHERE date > now() - interval '3 months') GROUP BY d.name HAVING COUNT(*) > 10\\n#\\n#\\\n",
    "   Answer:\\n# \"\n",
    "\n",
    "gen_code(code)"
   ]
  }
 ],
 "metadata": {
  "kernelspec": {
   "display_name": "local",
   "language": "python",
   "name": "python3"
  },
  "language_info": {
   "codemirror_mode": {
    "name": "ipython",
    "version": 3
   },
   "file_extension": ".py",
   "mimetype": "text/x-python",
   "name": "python",
   "nbconvert_exporter": "python",
   "pygments_lexer": "ipython3",
   "version": "3.10.15"
  }
 },
 "nbformat": 4,
 "nbformat_minor": 2
}
